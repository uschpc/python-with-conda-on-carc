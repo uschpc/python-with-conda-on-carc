{
 "cells": [
  {
   "cell_type": "markdown",
   "metadata": {},
   "source": [
    "## Data Science Using CARC OnDemand\n",
    "\n",
    "#### Using Conda\n",
    "\n",
    "Conda is a package and environment manager primarily used for open-source data science packages for the Python and R programming languages. It also supports other programming languages like C, C++, FORTRAN, Java, Scala, Ruby, and Lua.\n",
    "\n",
    "#### Using Conda on CARC systems\n",
    "\n",
    "### Note: Commands from this notebook should be run in a terminal. You can go to `File`->`New`->`Terminal` and launch it then use it to run the commands below\n",
    "\n",
    "To use Conda, first load the corresponding module:\n"
   ]
  },
  {
   "cell_type": "raw",
   "metadata": {},
   "source": [
    "module purge\n",
    "module load conda"
   ]
  },
  {
   "cell_type": "markdown",
   "metadata": {},
   "source": [
    "This module is based on the minimal Miniconda installer which includes the package and environment manager Conda that installs and updates packages and their dependencies. This module also provides Mamba, which is a drop-in replacement for most conda commands that enables faster package solving, downloading, and installing.\n",
    "\n",
    "The next step is to initialize your shell to use Conda and Mamba:"
   ]
  },
  {
   "cell_type": "raw",
   "metadata": {},
   "source": [
    "mamba init bash\n",
    "source ~/.bashrc"
   ]
  },
  {
   "cell_type": "markdown",
   "metadata": {},
   "source": [
    "This modifies your ~/.bashrc file so that Conda and Mamba are ready to use every time you log in (without needing to load the module).\n",
    "\n",
    "If you want a newer version of Conda or Mamba than what is available in the module, you can also install them into one of your directories. We recommend installing either [Miniconda](https://docs.conda.io/en/latest/miniconda.html) or [Mambaforge](https://mamba.readthedocs.io/en/latest/installation/mamba-installation.html).\n",
    "\n",
    "Conda can also be configured with various options. Read more about Conda configuration [here](https://docs.conda.io/projects/conda/en/latest/user-guide/configuration/use-condarc.html).\n",
    "\n",
    "#### Integrated development environments\n",
    "JupyterLab, VSCode, RStudio, and other integrated development environments (IDEs) can be used on compute nodes via our [OnDemand](https://www.carc.usc.edu/user-guides/carc-ondemand) service. To install Jupyter kernels, see our guide [here](https://www.carc.usc.edu/user-guides/hpc-systems/software/jupyter-kernels.html).\n",
    "\n",
    "### Installing Conda environments and packages\n",
    "You can create new Conda environments in one of your available directories. Conda environments are isolated project environments designed to manage distinct package requirements and dependencies for different projects. We recommend using the `mamba` command for faster package solving, downloading, and installing, but you can also use the `conda` command.\n",
    "\n",
    "The process for creating and using environments has a few basic steps:\n",
    "\n",
    "Create an environment with `mamba create`\n",
    "Activate the environment with `mamba activate`\n",
    "Install packages into the environment with `mamba install`\n",
    "To create a new Conda environment in your home directory, enter:"
   ]
  },
  {
   "cell_type": "raw",
   "metadata": {},
   "source": [
    "mamba create --name env_name"
   ]
  },
  {
   "cell_type": "markdown",
   "metadata": {},
   "source": [
    "where `env_name` is the name your want for your environment. Then activate the environment:"
   ]
  },
  {
   "cell_type": "raw",
   "metadata": {},
   "source": [
    "conda activate env_name"
   ]
  },
  {
   "cell_type": "markdown",
   "metadata": {},
   "source": [
    "Once activated, you can then install packages into that environment. Software can be installed from various channels. Software channels are most often maintained by conda community. The most popular are `conda-forge` and `bioconda`. Let's install `python3.10` in the freshly created empty environment:"
   ]
  },
  {
   "cell_type": "raw",
   "metadata": {},
   "source": [
    "conda install -y -c conda-forge python=3.10"
   ]
  },
  {
   "cell_type": "markdown",
   "metadata": {},
   "source": [
    "The above command installed pip as a dependency. Pip is often used to install Python packages. However, pip does not maintain the Python environment and should be run in one.\n",
    "\n",
    "For now, we need to connect the new environment with this Jupyterlab, so we need to install `ipykernel` package:"
   ]
  },
  {
   "cell_type": "raw",
   "metadata": {},
   "source": [
    "mamba install -y -c conda-forge ipykernel"
   ]
  },
  {
   "cell_type": "markdown",
   "metadata": {},
   "source": [
    "Then we need to run the following command to add the new environment to the list of jupyterlab kernels:"
   ]
  },
  {
   "cell_type": "raw",
   "metadata": {},
   "source": [
    "python -m ipykernel install --user --name my_env --display-name \"My env\""
   ]
  },
  {
   "cell_type": "raw",
   "metadata": {},
   "source": [
    "jupyter kernelspec list"
   ]
  },
  {
   "cell_type": "code",
   "execution_count": null,
   "metadata": {},
   "outputs": [],
   "source": []
  }
 ],
 "metadata": {
  "kernelspec": {
   "display_name": "My env",
   "language": "python",
   "name": "my_env"
  },
  "language_info": {
   "codemirror_mode": {
    "name": "ipython",
    "version": 3
   },
   "file_extension": ".py",
   "mimetype": "text/x-python",
   "name": "python",
   "nbconvert_exporter": "python",
   "pygments_lexer": "ipython3",
   "version": "3.10.16"
  }
 },
 "nbformat": 4,
 "nbformat_minor": 4
}
